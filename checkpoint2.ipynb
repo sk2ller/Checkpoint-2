{
 "cells": [
  {
   "cell_type": "code",
   "execution_count": 3,
   "id": "14a6dbf9",
   "metadata": {
    "scrolled": true
   },
   "outputs": [
    {
     "name": "stdout",
     "output_type": "stream",
     "text": [
      "36\n"
     ]
    }
   ],
   "source": [
    "#Ex1\n",
    "def list(items):\n",
    "    num = 1\n",
    "    for i in items:\n",
    "        num *= i\n",
    "    return num\n",
    "print(list([2, 3, 6]))"
   ]
  },
  {
   "cell_type": "code",
   "execution_count": 7,
   "id": "7aa9f525",
   "metadata": {},
   "outputs": [
    {
     "name": "stdout",
     "output_type": "stream",
     "text": [
      "[(9, 0), (1, 2), (3, 4), (5, 6), (7, 8)]\n"
     ]
    }
   ],
   "source": [
    "#Ex2\n",
    "def last(n): return n[-1]\n",
    "\n",
    "def sort_list(tuples):\n",
    "  return sorted(tuples, key=last)\n",
    "\n",
    "print(sort_list([(1, 2), (3, 4), (5, 6), (7, 8), (9, 0)]))"
   ]
  },
  {
   "cell_type": "code",
   "execution_count": 5,
   "id": "edb56e65",
   "metadata": {},
   "outputs": [
    {
     "name": "stdout",
     "output_type": "stream",
     "text": [
      "{'a': 400, 'b': 400, 'd': 400}\n"
     ]
    }
   ],
   "source": [
    "#Ex3\n",
    "dict1 = {'a': 100, 'b': 200, 'c':300}\n",
    "dict2 = {'a': 300, 'b': 200, 'd': 400}\n",
    "for key in dict2:\n",
    "    if key in dict1:\n",
    "        dict2[key] = dict1[key] + dict2[key]\n",
    "    else:print(dict2)"
   ]
  },
  {
   "cell_type": "code",
   "execution_count": 22,
   "id": "4fbec387",
   "metadata": {},
   "outputs": [
    {
     "name": "stdout",
     "output_type": "stream",
     "text": [
      "Type a number: 8\n",
      "{1: 1, 2: 4, 3: 9, 4: 16, 5: 25, 6: 36, 7: 49, 8: 64}\n"
     ]
    }
   ],
   "source": [
    "#Ex4\n",
    "number = int(input(\"Type a number: \"))\n",
    "numberDict = {}\n",
    "for i in range(1, number+1):\n",
    "    numberDict[i] = i*i\n",
    "print(numberDict)"
   ]
  },
  {
   "cell_type": "code",
   "execution_count": 21,
   "id": "93cf28e8",
   "metadata": {},
   "outputs": [
    {
     "name": "stdout",
     "output_type": "stream",
     "text": [
      "[('item3', '24.541'), ('item1', '18.265'), ('item2', '14.107')]\n"
     ]
    }
   ],
   "source": [
    "#Ex5\n",
    "def Sort(tup):\n",
    "    return(sorted(tup, key = lambda x: float(x[1]), reverse = True))\n",
    "tup = [('item1', '18.265'), ('item2', '14.107'), ('item3', '24.541')]\n",
    "print(Sort(tup))"
   ]
  },
  {
   "cell_type": "code",
   "execution_count": null,
   "id": "f08d8a5a",
   "metadata": {},
   "outputs": [],
   "source": []
  }
 ],
 "metadata": {
  "kernelspec": {
   "display_name": "Python 3",
   "language": "python",
   "name": "python3"
  },
  "language_info": {
   "codemirror_mode": {
    "name": "ipython",
    "version": 3
   },
   "file_extension": ".py",
   "mimetype": "text/x-python",
   "name": "python",
   "nbconvert_exporter": "python",
   "pygments_lexer": "ipython3",
   "version": "3.8.8"
  }
 },
 "nbformat": 4,
 "nbformat_minor": 5
}
